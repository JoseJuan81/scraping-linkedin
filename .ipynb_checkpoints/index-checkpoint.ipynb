{
 "cells": [
  {
   "cell_type": "code",
   "execution_count": 7,
   "id": "2dac330f-7def-4ef5-96ff-384eba7497d0",
   "metadata": {},
   "outputs": [],
   "source": [
    "from selenium import webdriver\n",
    "from webdriver_manager.chrome import ChromeDriverManager\n",
    "from selenium.webdriver.chrome.options import Options\n",
    "from selenium.webdriver.common.by import By\n",
    "import os\n",
    "from constantes import html_elements, urls, total_pages, company_name, selected_positions, wrong_positions"
   ]
  },
  {
   "cell_type": "markdown",
   "id": "85e26793-b2c8-44d4-94e7-a015dd8bc7ef",
   "metadata": {},
   "source": [
    "### Ruta absoluta para guardar archivos con data recopilada"
   ]
  },
  {
   "cell_type": "code",
   "execution_count": 8,
   "id": "d939fe22-e2ed-44e7-9e24-1ef253975cca",
   "metadata": {},
   "outputs": [],
   "source": [
    "working_dir = os.getcwd()  # Get the current working directory (cwd)\n",
    "data_dir = 'data'\n",
    "abs_path = os.path.join(working_dir, data_dir)"
   ]
  },
  {
   "cell_type": "code",
   "execution_count": 9,
   "id": "51c2d4eb-d755-48d1-bce4-061a224b87f2",
   "metadata": {},
   "outputs": [
    {
     "data": {
      "text/plain": [
       "'C:\\\\Users\\\\domin\\\\JUPYTERLAB\\\\scraping-linkedin'"
      ]
     },
     "execution_count": 9,
     "metadata": {},
     "output_type": "execute_result"
    }
   ],
   "source": [
    "os.getcwd()"
   ]
  },
  {
   "cell_type": "markdown",
   "id": "9bfe2fa3-ab0c-4fda-a14b-d6b353ee49cb",
   "metadata": {},
   "source": [
    "### Crear el webdriver de Chrome"
   ]
  },
  {
   "cell_type": "code",
   "execution_count": 10,
   "id": "61226865-2abe-4c5a-b86c-147b4bd5158f",
   "metadata": {},
   "outputs": [
    {
     "name": "stderr",
     "output_type": "stream",
     "text": [
      "C:\\Users\\domin\\AppData\\Local\\Temp\\ipykernel_20612\\1088745581.py:2: DeprecationWarning: executable_path has been deprecated, please pass in a Service object\n",
      "  driver = webdriver.Chrome(ChromeDriverManager().install(), options=opts)\n"
     ]
    }
   ],
   "source": [
    "opts = Options()\n",
    "driver = webdriver.Chrome(ChromeDriverManager().install(), options=opts)"
   ]
  },
  {
   "cell_type": "markdown",
   "id": "462161ec-43f4-4284-b2e8-a99611e6cc53",
   "metadata": {},
   "source": [
    "### Ejecucion de funciones"
   ]
  },
  {
   "cell_type": "code",
   "execution_count": 11,
   "id": "7ccb255a-ab06-40c7-80b1-b665c493c3a6",
   "metadata": {},
   "outputs": [],
   "source": [
    "def get_login(driver):\n",
    "    \"\"\"\n",
    "    FUNCIÓN PARA INICIAR SESIÓN EN LINKEDIN\n",
    "    \"\"\"\n",
    "    driver.get(urls['home'])\n",
    "\n",
    "    secret_file = open('secret.txt', 'r')\n",
    "    lineas = secret_file.readlines()\n",
    "    user = lineas[0].strip()\n",
    "    password = lineas[1].strip()\n",
    "    secret_file.close()\n",
    "\n",
    "    input_user = driver.find_element(By.XPATH, html_elements['login__input_email'])\n",
    "    input_pass = driver.find_element(By.XPATH, html_elements['login__input_pass'])\n",
    "\n",
    "    input_user.send_keys(user)\n",
    "    input_pass.send_keys(password)\n",
    "\n",
    "    boton = driver.find_element(By.XPATH, html_elements['login__button'])\n",
    "    boton.click()"
   ]
  },
  {
   "cell_type": "code",
   "execution_count": 12,
   "id": "a99cbda7-6d47-4228-82eb-523ccb507340",
   "metadata": {},
   "outputs": [],
   "source": [
    "get_login(driver)"
   ]
  },
  {
   "cell_type": "code",
   "execution_count": 13,
   "id": "b1ee1e12-1665-4266-8caf-82f293f1c6c0",
   "metadata": {},
   "outputs": [],
   "source": [
    "def go_to__search_page(driver, page=1):\n",
    "    \"\"\"\n",
    "    FUNCIÓN PARA IR A PÁGINA DE PERSONAL DE LA EMPRESA SELECCIONADA\n",
    "    \"\"\"\n",
    "    search_url__base = urls['searching_people'](page)\n",
    "    driver.get(search_url__base)"
   ]
  },
  {
   "cell_type": "code",
   "execution_count": 14,
   "id": "c674b944-c04b-42d4-a441-3115984a96d3",
   "metadata": {},
   "outputs": [],
   "source": [
    "def group_by_position(all_employees):\n",
    "    \"\"\"\n",
    "    FUNCIÓN PARA AGRUPAR EMPLEADOS POR CARGOS\n",
    "    \"\"\"\n",
    "    acc = {}\n",
    "    \n",
    "    for employee in all_employees:\n",
    "        position = employee['key_position']\n",
    "        if position in acc:\n",
    "            acc[position].append(employee)\n",
    "        else:\n",
    "            acc[position] = [employee]\n",
    "            \n",
    "    return acc"
   ]
  },
  {
   "cell_type": "code",
   "execution_count": 15,
   "id": "b6499e77-810c-42e6-8ffd-3effa44204b6",
   "metadata": {},
   "outputs": [],
   "source": [
    "def build_employees_object(employees_data, selected_positions, wrong_positions, page):\n",
    "    \"\"\"\n",
    "    FUNCIÓN PARA CREAR ARREGLO DE OBJETO DE EMPLEADOS CON LAS PROPIEDA DEFINIDAS\n",
    "    NOMBRE, CARGO, ENLACE A PÁGINA Y POSICIÓN CLAVE\n",
    "    ADICIONALMENTE SE FILTRAN LOS EMPLEADOS TOMANDO EN CUENTA LOS CARGOS DE INTERÉS\n",
    "    \"\"\"\n",
    "    acc = []\n",
    "\n",
    "    for full_name, link, employee_position  in employees_data:\n",
    "        for position in selected_positions:\n",
    "            if position.lower() in employee_position.lower():\n",
    "                wrong = 0\n",
    "                \n",
    "                for wrong_position in wrong_positions:\n",
    "                    if wrong_position in employee_position.lower():\n",
    "                        wrong += 1\n",
    "                \n",
    "                if wrong == 0:\n",
    "                    data = {\n",
    "                        'name': full_name,\n",
    "                        'position': employee_position,\n",
    "                        'link': link,\n",
    "                        'page': page,\n",
    "                        'key_position': position,\n",
    "                    }\n",
    "                    acc.append(data)\n",
    "\n",
    "    return acc"
   ]
  },
  {
   "cell_type": "code",
   "execution_count": 16,
   "id": "0812eaa9-1808-4d68-929a-890ab83ae43e",
   "metadata": {},
   "outputs": [],
   "source": [
    "def get_data_from_WebElement(data, operator='text'):\n",
    "    \"\"\"\n",
    "    FUNCIÓN GENÉRICA PARA EXTRAE INFORMACIÓN DE LOS WEBELEMENTS OBTENIDOS\n",
    "    \"\"\"\n",
    "    acc = []\n",
    "    \n",
    "    if operator == 'get_attribute':\n",
    "        for d in data:\n",
    "            acc.append(d.get_attribute(\"href\"))\n",
    "    elif operator == 'text':\n",
    "        for d in data:\n",
    "            acc.append(d.text)\n",
    "            \n",
    "    return acc"
   ]
  },
  {
   "cell_type": "code",
   "execution_count": 84,
   "id": "1d69b878-72f5-47c6-b408-6d93c95ce3e5",
   "metadata": {},
   "outputs": [],
   "source": [
    "def extract_employees_from_web(driver):\n",
    "    \"\"\"\n",
    "    FUNCIÓN PARA OBTENER INFORMACIÓN DE LA PÁGINA WEB\n",
    "    \"\"\"\n",
    "    acc = []\n",
    "    employees_li = driver.find_elements(By.XPATH, html_elements['employees_li'])\n",
    "    \n",
    "    for li in employees_li:\n",
    "        # pages = li.find_elements(By.XPATH, '//a[@class=\"app-aware-link \"]')\n",
    "        names = li.find_elements(By.XPATH, '//a[@class=\"app-aware-link \"]//span[@aria-hidden=\"true\"]')\n",
    "        positions = li.find_elements(By.XPATH, '//div[@class=\"entity-result__primary-subtitle t-14 t-black t-normal\"]')\n",
    "        \n",
    "        for name, position in zip(names, positions):\n",
    "            print(name.text, position.text)\n",
    "        \n",
    "        break\n",
    "        # acc.append((names, positions, pages))\n",
    "        \n",
    "    return acc"
   ]
  },
  {
   "cell_type": "code",
   "execution_count": 18,
   "id": "a2507e19-73be-4e4d-860d-139e0df7a051",
   "metadata": {},
   "outputs": [],
   "source": [
    "def scraping_page(driver):\n",
    "    \"\"\"\n",
    "    FUNCIÓN PARA OBTENER TODO EL PERSONAL DE LA EMPRESA SELECCIONADA y CLASIFICARLO POR CARGOS\n",
    "    \"\"\"\n",
    "    acc = []\n",
    "    #for i in range(1, total_pages + 1):\n",
    "    for i in range(1, 2):\n",
    "        \n",
    "        page = i\n",
    "        go_to__search_page(driver, page) \n",
    "        employees_data = extract_employees_from_web(driver)\n",
    "        return employees_data\n",
    "        #employees_list_props = build_employees_object(employees_data, selected_positions, wrong_positions, page)\n",
    "        \n",
    "        #if employees_list_props != []:\n",
    "            #acc += employees_list_props\n",
    "\n",
    "    #return acc"
   ]
  },
  {
   "cell_type": "code",
   "execution_count": 85,
   "id": "b1288b71-b879-4b32-9752-df17bf050d9a",
   "metadata": {},
   "outputs": [
    {
     "name": "stdout",
     "output_type": "stream",
     "text": [
      "Karla Patricia Adriazola Málaga Coordinador Logístico Proyectos de Inversión Southern Perú\n",
      "Oscar Romero Salazar, CMRP Ingeniero de Confiabilidad y Mejora Continua en SOUTHERN PERU COPPER CORPORATION\n",
      "Alberto Medina Ureta Supervisor de Operaciones en SOUTHERN PERU COPPER CORPORATION\n",
      "Juan Miranda Díaz Ingeniero de Planeamiento a Largo Plazo en SOUTHERN PERU COPPER CORPORATION\n",
      "Dante Cesar Velásquez Díaz Ingeniero de seguridad en SOUTHERN PERU COPPER CORPORATION\n",
      "Franklin José Salcedo Villasante Ingeniero Electricista CIP - Ingeniero de Centro de Control de Energía - Southern Peru Copper Corporation\n",
      "Brayan Arias Caso Supervisor en SOUTHERN PERU COPPER CORPORATION\n",
      "Luis Enrique Vilca Espinoza Ingeniero en Entrenamiento en SOUTHERN PERU COPPER CORPORATION\n",
      "RODRIGO ROMAN ARCE PLANNER MANTENIMIENTO MINA en SOUTHERN PERU COPPER CORPORATION\n",
      "Mario Ricardo Apaza Rivera Becario Operaciones Concentradora en SOUTHERN PERU COPPER CORPORATION\n"
     ]
    }
   ],
   "source": [
    "employees = scraping_page(driver)"
   ]
  },
  {
   "cell_type": "code",
   "execution_count": null,
   "id": "41f62d29-4d8e-4269-8b36-3b958ce595a7",
   "metadata": {},
   "outputs": [],
   "source": [
    "# employees_filtered = group_by_position(employees)"
   ]
  },
  {
   "cell_type": "code",
   "execution_count": null,
   "id": "9637d1f4-641c-4db5-aa84-70af893c3450",
   "metadata": {},
   "outputs": [],
   "source": [
    "def creating_files(employees_grouped_by_position):\n",
    "    \n",
    "    base_path = os.getcwd()\n",
    "    saving_dir = os.path.join(base_path, \"data\", company_name)\n",
    "    \n",
    "    if not os.path.exists(saving_dir):\n",
    "        os.makedirs(saving_dir)\n",
    "\n",
    "    for position in employees_grouped_by_position:\n",
    "        \n",
    "        saving_path = f\"{position}_{company_name}.txt\"\n",
    "        save = os.path.join(saving_dir, saving_path)\n",
    "        data = employees_grouped_by_position[position]\n",
    "        \n",
    "        with open(save, \"w\", encoding=\"utf-8\") as file:\n",
    "            for d in data:\n",
    "                name = f'name: {d[\"name\"]}'\n",
    "                position = f'position: {d[\"position\"]}'\n",
    "                link = f'link: {d[\"link\"]}'\n",
    "                page = f'page: {d[\"page\"]}'\n",
    "                key_position = f'key_position: {d[\"key_position\"]}'\n",
    "                \n",
    "                txt = f\"{name}\\n{position}\\n{link}\\n{page}\\n{key_position}\\n\\n\"\n",
    "                file.write(txt)\n"
   ]
  },
  {
   "cell_type": "code",
   "execution_count": null,
   "id": "04d559b3-3d1d-4e05-a5c1-18ba13f101ba",
   "metadata": {},
   "outputs": [],
   "source": [
    "# creating_files(employees_filtered)"
   ]
  },
  {
   "cell_type": "code",
   "execution_count": null,
   "id": "8be34b28-00ce-48a2-bbb5-177ddd81be39",
   "metadata": {},
   "outputs": [],
   "source": []
  }
 ],
 "metadata": {
  "kernelspec": {
   "display_name": "Python 3 (ipykernel)",
   "language": "python",
   "name": "python3"
  },
  "language_info": {
   "codemirror_mode": {
    "name": "ipython",
    "version": 3
   },
   "file_extension": ".py",
   "mimetype": "text/x-python",
   "name": "python",
   "nbconvert_exporter": "python",
   "pygments_lexer": "ipython3",
   "version": "3.10.9"
  }
 },
 "nbformat": 4,
 "nbformat_minor": 5
}
