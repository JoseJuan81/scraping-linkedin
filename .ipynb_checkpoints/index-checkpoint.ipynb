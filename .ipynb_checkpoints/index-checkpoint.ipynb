{
 "cells": [
  {
   "cell_type": "code",
   "execution_count": 1,
   "id": "e285d5d8-6e87-43dc-8ecb-d052f7dded11",
   "metadata": {
    "tags": []
   },
   "outputs": [],
   "source": [
    "from selenium import webdriver\n",
    "from webdriver_manager.chrome import ChromeDriverManager\n",
    "from selenium.webdriver.chrome.options import Options\n",
    "from selenium.webdriver.common.by import By\n",
    "from constantes import html_elements, urls, total_pages, company_name, target_positions"
   ]
  },
  {
   "cell_type": "markdown",
   "id": "f25a7a27-c7ca-499b-8c84-5c561fef135d",
   "metadata": {
    "tags": []
   },
   "source": [
    "## Crear el webdriver de Chrome"
   ]
  },
  {
   "cell_type": "code",
   "execution_count": 2,
   "id": "3410c474-fdc1-4ce1-bf9f-6c2ee34c5827",
   "metadata": {
    "tags": []
   },
   "outputs": [
    {
     "name": "stderr",
     "output_type": "stream",
     "text": [
      "/var/folders/3d/455lhm0d5c11ldvj7pr4mp1h0000gn/T/ipykernel_8664/1088745581.py:2: DeprecationWarning: executable_path has been deprecated, please pass in a Service object\n",
      "  driver = webdriver.Chrome(ChromeDriverManager().install(), options=opts)\n"
     ]
    }
   ],
   "source": [
    "opts = Options()\n",
    "driver = webdriver.Chrome(ChromeDriverManager().install(), options=opts)"
   ]
  },
  {
   "cell_type": "markdown",
   "id": "1c57f3c7-6420-440d-8655-314e34da49c3",
   "metadata": {
    "tags": []
   },
   "source": [
    "## Funciones"
   ]
  },
  {
   "cell_type": "markdown",
   "id": "418edb72-abe6-4df6-b0f8-70761ffb585d",
   "metadata": {
    "tags": []
   },
   "source": [
    "### Funcion para iniciar sesion"
   ]
  },
  {
   "cell_type": "code",
   "execution_count": 3,
   "id": "723f915d-74d9-4c90-afda-601b42945fcd",
   "metadata": {
    "tags": []
   },
   "outputs": [],
   "source": [
    "def get_login(driver):\n",
    "    driver.get(urls['home'])\n",
    "\n",
    "    secret_file = open('secret.txt', 'r')\n",
    "    lineas = secret_file.readlines()\n",
    "    user = lineas[0].strip()\n",
    "    password = lineas[1].strip()\n",
    "    secret_file.close()\n",
    "\n",
    "    input_user = driver.find_element(By.XPATH, html_elements['login__input_email'])\n",
    "    input_pass = driver.find_element(By.XPATH, html_elements['login__input_pass'])\n",
    "\n",
    "    input_user.send_keys(user)\n",
    "    input_pass.send_keys(password)\n",
    "\n",
    "    boton = driver.find_element(By.XPATH, html_elements['login__button'])\n",
    "    boton.click()"
   ]
  },
  {
   "cell_type": "markdown",
   "id": "36134016-71bc-4b70-a870-6bf6e0c068df",
   "metadata": {
    "tags": []
   },
   "source": [
    "### Funcion para ir a la pagina de empleados de la empresa"
   ]
  },
  {
   "cell_type": "code",
   "execution_count": 4,
   "id": "785ca7bd-c545-43fd-9aed-6baac0437a70",
   "metadata": {
    "tags": []
   },
   "outputs": [],
   "source": [
    "def go_to__search_page(driver, page=1):\n",
    "    search_url__base = urls['searching_people'](page)\n",
    "    driver.get(search_url__base)"
   ]
  },
  {
   "cell_type": "markdown",
   "id": "fdc0fe0a-abfb-4e8c-ac49-0ce324940f29",
   "metadata": {
    "tags": []
   },
   "source": [
    "### Funcion para obtener los puestos de trabajo de la empresa"
   ]
  },
  {
   "cell_type": "code",
   "execution_count": 5,
   "id": "5689df05-d739-4af4-8861-f0adae433ce2",
   "metadata": {
    "tags": []
   },
   "outputs": [],
   "source": [
    "def scraping_page(driver):\n",
    "\n",
    "    acc = []\n",
    "    \n",
    "    for i in range(1, total_pages + 1):\n",
    "        \n",
    "        page = i\n",
    "        go_to__search_page(driver, page) \n",
    "\n",
    "        lista_empleados__nombres = driver.find_elements(By.XPATH, html_elements['employees_name'])\n",
    "        lista_empleados__link_page = driver.find_elements(By.XPATH, html_elements['employees_page'])\n",
    "        lista_empleados__cargo = driver.find_elements(By.XPATH, html_elements['employees_position'])\n",
    "        \n",
    "        for web_nombre,web_cargo,web_link in zip(lista_empleados__nombres, lista_empleados__cargo, lista_empleados__link_page):\n",
    "            nombre = web_nombre.text \n",
    "            cargo = web_cargo.text\n",
    "            link = web_link.get_attribute(\"href\")\n",
    "            \n",
    "            data = { 'nombre': nombre, 'cargo': cargo, 'page': link }\n",
    "            \n",
    "            acc.append(data)\n",
    "\n",
    "    return acc\n",
    "            "
   ]
  },
  {
   "cell_type": "markdown",
   "id": "21c774d6-cb0c-4895-8414-17aee845db30",
   "metadata": {
    "tags": []
   },
   "source": [
    "### Clasificacion de puestos de trabajos en funcion de los puestos objetivos"
   ]
  },
  {
   "cell_type": "code",
   "execution_count": 6,
   "id": "0d7a7391-0e57-41e7-888c-854db5fe20e6",
   "metadata": {
    "tags": []
   },
   "outputs": [],
   "source": [
    "def classify_by_position_target(all_company_positions, target_positions):\n",
    "    acc = {}\n",
    "    for position in all_company_positions:\n",
    "        \n",
    "        for target in target_positions:\n",
    "            \n",
    "            if target in position['cargo'].lower():\n",
    "                \n",
    "                if target in acc:\n",
    "                    acc[target].append(position)\n",
    "                else:\n",
    "                    acc[target] = [position]\n",
    "                \n",
    "    return acc"
   ]
  },
  {
   "cell_type": "markdown",
   "id": "b42d7b72-f6fa-474b-bf0c-fff3d5dedcf6",
   "metadata": {
    "tags": []
   },
   "source": [
    "### Crear archivos con cargos obtenidos"
   ]
  },
  {
   "cell_type": "code",
   "execution_count": 7,
   "id": "42507cef-2eb2-4d83-8e07-ac805375f216",
   "metadata": {
    "tags": []
   },
   "outputs": [],
   "source": [
    "def creating_files(target_positions, interested_positions):\n",
    "\n",
    "    for target in target_positions:\n",
    "        file = open(f\"{target}_{company_name}.txt\", 'w')\n",
    "        \n",
    "        if target in interested_positions:\n",
    "            position_data = interested_positions[target]\n",
    "\n",
    "            for p in position_data:\n",
    "\n",
    "                txt = f\"Nombre: {p['nombre']}\\nCargo: {p['cargo']}\\n link: {p['page']}\\n\\n\"\n",
    "                file.write(txt)\n",
    "\n",
    "        file.close()"
   ]
  },
  {
   "cell_type": "markdown",
   "id": "831fe12f-6693-4498-9241-a25a3000c678",
   "metadata": {
    "tags": []
   },
   "source": [
    "## Ejecucion de funciones"
   ]
  },
  {
   "cell_type": "code",
   "execution_count": 8,
   "id": "1b719fe3-ab36-4fe9-a93e-6eb13afeac3d",
   "metadata": {
    "tags": []
   },
   "outputs": [],
   "source": [
    "get_login(driver)"
   ]
  },
  {
   "cell_type": "code",
   "execution_count": 9,
   "id": "63148602-1df5-4b6c-abdc-9ceda29eff1b",
   "metadata": {},
   "outputs": [],
   "source": [
    "go_to__search_page(driver)"
   ]
  },
  {
   "cell_type": "code",
   "execution_count": 10,
   "id": "b298aa2e-aa5b-450d-9ab5-c9c7cadff19e",
   "metadata": {},
   "outputs": [
    {
     "ename": "NoSuchWindowException",
     "evalue": "Message: no such window: target window already closed\nfrom unknown error: web view not found\n  (Session info: chrome=112.0.5615.137)\nStacktrace:\n0   chromedriver                        0x0000000106746ae8 chromedriver + 4958952\n1   chromedriver                        0x000000010673e7b3 chromedriver + 4925363\n2   chromedriver                        0x00000001063001d6 chromedriver + 475606\n3   chromedriver                        0x00000001062d5cec chromedriver + 302316\n4   chromedriver                        0x000000010636ef2f chromedriver + 929583\n5   chromedriver                        0x0000000106384926 chromedriver + 1018150\n6   chromedriver                        0x00000001063699e3 chromedriver + 907747\n7   chromedriver                        0x0000000106333aef chromedriver + 686831\n8   chromedriver                        0x000000010633500e chromedriver + 692238\n9   chromedriver                        0x00000001067029ad chromedriver + 4680109\n10  chromedriver                        0x0000000106707c12 chromedriver + 4701202\n11  chromedriver                        0x000000010670e79f chromedriver + 4728735\n12  chromedriver                        0x0000000106708b7a chromedriver + 4705146\n13  chromedriver                        0x00000001066db27e chromedriver + 4518526\n14  chromedriver                        0x0000000106728908 chromedriver + 4835592\n15  chromedriver                        0x0000000106728a87 chromedriver + 4835975\n16  chromedriver                        0x000000010673800f chromedriver + 4898831\n17  libsystem_pthread.dylib             0x00007ff8070de259 _pthread_start + 125\n18  libsystem_pthread.dylib             0x00007ff8070d9c7b thread_start + 15\n",
     "output_type": "error",
     "traceback": [
      "\u001b[0;31m---------------------------------------------------------------------------\u001b[0m",
      "\u001b[0;31mNoSuchWindowException\u001b[0m                     Traceback (most recent call last)",
      "Cell \u001b[0;32mIn[10], line 1\u001b[0m\n\u001b[0;32m----> 1\u001b[0m all_positions \u001b[38;5;241m=\u001b[39m \u001b[43mscraping_page\u001b[49m\u001b[43m(\u001b[49m\u001b[43mdriver\u001b[49m\u001b[43m)\u001b[49m\n",
      "Cell \u001b[0;32mIn[5], line 10\u001b[0m, in \u001b[0;36mscraping_page\u001b[0;34m(driver)\u001b[0m\n\u001b[1;32m      7\u001b[0m page \u001b[38;5;241m=\u001b[39m i\n\u001b[1;32m      8\u001b[0m go_to__search_page(driver, page) \n\u001b[0;32m---> 10\u001b[0m lista_empleados__nombres \u001b[38;5;241m=\u001b[39m \u001b[43mdriver\u001b[49m\u001b[38;5;241;43m.\u001b[39;49m\u001b[43mfind_elements\u001b[49m\u001b[43m(\u001b[49m\u001b[43mBy\u001b[49m\u001b[38;5;241;43m.\u001b[39;49m\u001b[43mXPATH\u001b[49m\u001b[43m,\u001b[49m\u001b[43m \u001b[49m\u001b[43mhtml_elements\u001b[49m\u001b[43m[\u001b[49m\u001b[38;5;124;43m'\u001b[39;49m\u001b[38;5;124;43memployees_name\u001b[39;49m\u001b[38;5;124;43m'\u001b[39;49m\u001b[43m]\u001b[49m\u001b[43m)\u001b[49m\n\u001b[1;32m     11\u001b[0m lista_empleados__link_page \u001b[38;5;241m=\u001b[39m driver\u001b[38;5;241m.\u001b[39mfind_elements(By\u001b[38;5;241m.\u001b[39mXPATH, html_elements[\u001b[38;5;124m'\u001b[39m\u001b[38;5;124memployees_page\u001b[39m\u001b[38;5;124m'\u001b[39m])\n\u001b[1;32m     12\u001b[0m lista_empleados__cargo \u001b[38;5;241m=\u001b[39m driver\u001b[38;5;241m.\u001b[39mfind_elements(By\u001b[38;5;241m.\u001b[39mXPATH, html_elements[\u001b[38;5;124m'\u001b[39m\u001b[38;5;124memployees_position\u001b[39m\u001b[38;5;124m'\u001b[39m])\n",
      "File \u001b[0;32m/usr/local/lib/python3.10/site-packages/selenium/webdriver/remote/webdriver.py:861\u001b[0m, in \u001b[0;36mWebDriver.find_elements\u001b[0;34m(self, by, value)\u001b[0m\n\u001b[1;32m    857\u001b[0m     value \u001b[38;5;241m=\u001b[39m \u001b[38;5;124mf\u001b[39m\u001b[38;5;124m'\u001b[39m\u001b[38;5;124m[name=\u001b[39m\u001b[38;5;124m\"\u001b[39m\u001b[38;5;132;01m{\u001b[39;00mvalue\u001b[38;5;132;01m}\u001b[39;00m\u001b[38;5;124m\"\u001b[39m\u001b[38;5;124m]\u001b[39m\u001b[38;5;124m'\u001b[39m\n\u001b[1;32m    859\u001b[0m \u001b[38;5;66;03m# Return empty list if driver returns null\u001b[39;00m\n\u001b[1;32m    860\u001b[0m \u001b[38;5;66;03m# See https://github.com/SeleniumHQ/selenium/issues/4555\u001b[39;00m\n\u001b[0;32m--> 861\u001b[0m \u001b[38;5;28;01mreturn\u001b[39;00m \u001b[38;5;28;43mself\u001b[39;49m\u001b[38;5;241;43m.\u001b[39;49m\u001b[43mexecute\u001b[49m\u001b[43m(\u001b[49m\u001b[43mCommand\u001b[49m\u001b[38;5;241;43m.\u001b[39;49m\u001b[43mFIND_ELEMENTS\u001b[49m\u001b[43m,\u001b[49m\u001b[43m \u001b[49m\u001b[43m{\u001b[49m\u001b[38;5;124;43m\"\u001b[39;49m\u001b[38;5;124;43musing\u001b[39;49m\u001b[38;5;124;43m\"\u001b[39;49m\u001b[43m:\u001b[49m\u001b[43m \u001b[49m\u001b[43mby\u001b[49m\u001b[43m,\u001b[49m\u001b[43m \u001b[49m\u001b[38;5;124;43m\"\u001b[39;49m\u001b[38;5;124;43mvalue\u001b[39;49m\u001b[38;5;124;43m\"\u001b[39;49m\u001b[43m:\u001b[49m\u001b[43m \u001b[49m\u001b[43mvalue\u001b[49m\u001b[43m}\u001b[49m\u001b[43m)\u001b[49m[\u001b[38;5;124m\"\u001b[39m\u001b[38;5;124mvalue\u001b[39m\u001b[38;5;124m\"\u001b[39m] \u001b[38;5;129;01mor\u001b[39;00m []\n",
      "File \u001b[0;32m/usr/local/lib/python3.10/site-packages/selenium/webdriver/remote/webdriver.py:440\u001b[0m, in \u001b[0;36mWebDriver.execute\u001b[0;34m(self, driver_command, params)\u001b[0m\n\u001b[1;32m    438\u001b[0m response \u001b[38;5;241m=\u001b[39m \u001b[38;5;28mself\u001b[39m\u001b[38;5;241m.\u001b[39mcommand_executor\u001b[38;5;241m.\u001b[39mexecute(driver_command, params)\n\u001b[1;32m    439\u001b[0m \u001b[38;5;28;01mif\u001b[39;00m response:\n\u001b[0;32m--> 440\u001b[0m     \u001b[38;5;28;43mself\u001b[39;49m\u001b[38;5;241;43m.\u001b[39;49m\u001b[43merror_handler\u001b[49m\u001b[38;5;241;43m.\u001b[39;49m\u001b[43mcheck_response\u001b[49m\u001b[43m(\u001b[49m\u001b[43mresponse\u001b[49m\u001b[43m)\u001b[49m\n\u001b[1;32m    441\u001b[0m     response[\u001b[38;5;124m\"\u001b[39m\u001b[38;5;124mvalue\u001b[39m\u001b[38;5;124m\"\u001b[39m] \u001b[38;5;241m=\u001b[39m \u001b[38;5;28mself\u001b[39m\u001b[38;5;241m.\u001b[39m_unwrap_value(response\u001b[38;5;241m.\u001b[39mget(\u001b[38;5;124m\"\u001b[39m\u001b[38;5;124mvalue\u001b[39m\u001b[38;5;124m\"\u001b[39m, \u001b[38;5;28;01mNone\u001b[39;00m))\n\u001b[1;32m    442\u001b[0m     \u001b[38;5;28;01mreturn\u001b[39;00m response\n",
      "File \u001b[0;32m/usr/local/lib/python3.10/site-packages/selenium/webdriver/remote/errorhandler.py:245\u001b[0m, in \u001b[0;36mErrorHandler.check_response\u001b[0;34m(self, response)\u001b[0m\n\u001b[1;32m    243\u001b[0m         alert_text \u001b[38;5;241m=\u001b[39m value[\u001b[38;5;124m\"\u001b[39m\u001b[38;5;124malert\u001b[39m\u001b[38;5;124m\"\u001b[39m]\u001b[38;5;241m.\u001b[39mget(\u001b[38;5;124m\"\u001b[39m\u001b[38;5;124mtext\u001b[39m\u001b[38;5;124m\"\u001b[39m)\n\u001b[1;32m    244\u001b[0m     \u001b[38;5;28;01mraise\u001b[39;00m exception_class(message, screen, stacktrace, alert_text)  \u001b[38;5;66;03m# type: ignore[call-arg]  # mypy is not smart enough here\u001b[39;00m\n\u001b[0;32m--> 245\u001b[0m \u001b[38;5;28;01mraise\u001b[39;00m exception_class(message, screen, stacktrace)\n",
      "\u001b[0;31mNoSuchWindowException\u001b[0m: Message: no such window: target window already closed\nfrom unknown error: web view not found\n  (Session info: chrome=112.0.5615.137)\nStacktrace:\n0   chromedriver                        0x0000000106746ae8 chromedriver + 4958952\n1   chromedriver                        0x000000010673e7b3 chromedriver + 4925363\n2   chromedriver                        0x00000001063001d6 chromedriver + 475606\n3   chromedriver                        0x00000001062d5cec chromedriver + 302316\n4   chromedriver                        0x000000010636ef2f chromedriver + 929583\n5   chromedriver                        0x0000000106384926 chromedriver + 1018150\n6   chromedriver                        0x00000001063699e3 chromedriver + 907747\n7   chromedriver                        0x0000000106333aef chromedriver + 686831\n8   chromedriver                        0x000000010633500e chromedriver + 692238\n9   chromedriver                        0x00000001067029ad chromedriver + 4680109\n10  chromedriver                        0x0000000106707c12 chromedriver + 4701202\n11  chromedriver                        0x000000010670e79f chromedriver + 4728735\n12  chromedriver                        0x0000000106708b7a chromedriver + 4705146\n13  chromedriver                        0x00000001066db27e chromedriver + 4518526\n14  chromedriver                        0x0000000106728908 chromedriver + 4835592\n15  chromedriver                        0x0000000106728a87 chromedriver + 4835975\n16  chromedriver                        0x000000010673800f chromedriver + 4898831\n17  libsystem_pthread.dylib             0x00007ff8070de259 _pthread_start + 125\n18  libsystem_pthread.dylib             0x00007ff8070d9c7b thread_start + 15\n"
     ]
    }
   ],
   "source": [
    "all_positions = scraping_page(driver)"
   ]
  },
  {
   "cell_type": "code",
   "execution_count": null,
   "id": "ad523b5c-2ba0-4f0b-8c8f-321a5944fae1",
   "metadata": {
    "tags": []
   },
   "outputs": [],
   "source": [
    "interested_positions = classify_by_position_target(all_positions, target_positions)"
   ]
  },
  {
   "cell_type": "code",
   "execution_count": null,
   "id": "b45bdbca-9239-46e7-aefd-e327c58e3f4c",
   "metadata": {
    "tags": []
   },
   "outputs": [],
   "source": [
    "creating_files(target_positions, interested_positions)"
   ]
  },
  {
   "cell_type": "code",
   "execution_count": null,
   "id": "df69d8e4-18ae-40b2-b9a2-a2e492f56fcd",
   "metadata": {},
   "outputs": [],
   "source": []
  }
 ],
 "metadata": {
  "kernelspec": {
   "display_name": "Python 3 (ipykernel)",
   "language": "python",
   "name": "python3"
  },
  "language_info": {
   "codemirror_mode": {
    "name": "ipython",
    "version": 3
   },
   "file_extension": ".py",
   "mimetype": "text/x-python",
   "name": "python",
   "nbconvert_exporter": "python",
   "pygments_lexer": "ipython3",
   "version": "3.10.9"
  }
 },
 "nbformat": 4,
 "nbformat_minor": 5
}
