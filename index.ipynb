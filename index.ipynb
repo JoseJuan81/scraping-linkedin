{
 "cells": [
  {
   "cell_type": "code",
   "execution_count": 1,
   "id": "e285d5d8-6e87-43dc-8ecb-d052f7dded11",
   "metadata": {
    "tags": []
   },
   "outputs": [],
   "source": [
    "from selenium import webdriver\n",
    "from webdriver_manager.chrome import ChromeDriverManager\n",
    "from selenium.webdriver.chrome.options import Options\n",
    "from selenium.webdriver.common.by import By\n",
    "from constantes import html_elements, urls, total_pages, company_name, target_positions"
   ]
  },
  {
   "cell_type": "markdown",
   "id": "f25a7a27-c7ca-499b-8c84-5c561fef135d",
   "metadata": {
    "tags": []
   },
   "source": [
    "## Crear el webdriver de Chrome"
   ]
  },
  {
   "cell_type": "code",
   "execution_count": 2,
   "id": "3410c474-fdc1-4ce1-bf9f-6c2ee34c5827",
   "metadata": {
    "tags": []
   },
   "outputs": [
    {
     "name": "stderr",
     "output_type": "stream",
     "text": [
      "/var/folders/3d/455lhm0d5c11ldvj7pr4mp1h0000gn/T/ipykernel_9914/1088745581.py:2: DeprecationWarning: executable_path has been deprecated, please pass in a Service object\n",
      "  driver = webdriver.Chrome(ChromeDriverManager().install(), options=opts)\n"
     ]
    }
   ],
   "source": [
    "opts = Options()\n",
    "driver = webdriver.Chrome(ChromeDriverManager().install(), options=opts)"
   ]
  },
  {
   "cell_type": "markdown",
   "id": "1c57f3c7-6420-440d-8655-314e34da49c3",
   "metadata": {
    "tags": []
   },
   "source": [
    "## Funciones"
   ]
  },
  {
   "cell_type": "markdown",
   "id": "418edb72-abe6-4df6-b0f8-70761ffb585d",
   "metadata": {
    "tags": []
   },
   "source": [
    "### Funcion para iniciar sesion"
   ]
  },
  {
   "cell_type": "code",
   "execution_count": 3,
   "id": "723f915d-74d9-4c90-afda-601b42945fcd",
   "metadata": {
    "tags": []
   },
   "outputs": [],
   "source": [
    "def get_login(driver):\n",
    "    driver.get(urls['home'])\n",
    "\n",
    "    secret_file = open('secret.txt', 'r')\n",
    "    lineas = secret_file.readlines()\n",
    "    user = lineas[0].strip()\n",
    "    password = lineas[1].strip()\n",
    "    secret_file.close()\n",
    "\n",
    "    input_user = driver.find_element(By.XPATH, html_elements['login__input_email'])\n",
    "    input_pass = driver.find_element(By.XPATH, html_elements['login__input_pass'])\n",
    "\n",
    "    input_user.send_keys(user)\n",
    "    input_pass.send_keys(password)\n",
    "\n",
    "    boton = driver.find_element(By.XPATH, html_elements['login__button'])\n",
    "    boton.click()"
   ]
  },
  {
   "cell_type": "markdown",
   "id": "36134016-71bc-4b70-a870-6bf6e0c068df",
   "metadata": {
    "tags": []
   },
   "source": [
    "### Funcion para ir a la pagina de empleados de la empresa"
   ]
  },
  {
   "cell_type": "code",
   "execution_count": 4,
   "id": "785ca7bd-c545-43fd-9aed-6baac0437a70",
   "metadata": {
    "tags": []
   },
   "outputs": [],
   "source": [
    "def go_to__search_page(driver, page=1):\n",
    "    search_url__base = urls['searching_people'](page)\n",
    "    driver.get(search_url__base)"
   ]
  },
  {
   "cell_type": "markdown",
   "id": "fdc0fe0a-abfb-4e8c-ac49-0ce324940f29",
   "metadata": {
    "tags": []
   },
   "source": [
    "### Funcion para obtener los puestos de trabajo de la empresa"
   ]
  },
  {
   "cell_type": "code",
   "execution_count": 5,
   "id": "5689df05-d739-4af4-8861-f0adae433ce2",
   "metadata": {
    "tags": []
   },
   "outputs": [],
   "source": [
    "def scraping_page(driver):\n",
    "\n",
    "    acc = []\n",
    "    \n",
    "    for i in range(1, total_pages + 1):\n",
    "        \n",
    "        page = i\n",
    "        go_to__search_page(driver, page) \n",
    "\n",
    "        lista_empleados__nombres = driver.find_elements(By.XPATH, html_elements['employees_name'])\n",
    "        lista_empleados__link_page = driver.find_elements(By.XPATH, html_elements['employees_page'])\n",
    "        lista_empleados__cargo = driver.find_elements(By.XPATH, html_elements['employees_position'])\n",
    "        \n",
    "        for web_nombre,web_cargo,web_link in zip(lista_empleados__nombres, lista_empleados__cargo, lista_empleados__link_page):\n",
    "            nombre = web_nombre.text \n",
    "            cargo = web_cargo.text\n",
    "            link = web_link.get_attribute(\"href\")\n",
    "            \n",
    "            data = { 'nombre': nombre, 'cargo': cargo, 'page': link }\n",
    "            \n",
    "            acc.append(data)\n",
    "\n",
    "    return acc\n",
    "            "
   ]
  },
  {
   "cell_type": "markdown",
   "id": "21c774d6-cb0c-4895-8414-17aee845db30",
   "metadata": {
    "tags": []
   },
   "source": [
    "### Clasificacion de puestos de trabajos en funcion de los puestos objetivos"
   ]
  },
  {
   "cell_type": "code",
   "execution_count": 6,
   "id": "0d7a7391-0e57-41e7-888c-854db5fe20e6",
   "metadata": {
    "tags": []
   },
   "outputs": [],
   "source": [
    "def classify_by_position_target(all_company_positions, target_positions):\n",
    "    acc = {}\n",
    "    for position in all_company_positions:\n",
    "        \n",
    "        for target in target_positions:\n",
    "            \n",
    "            if target in position['cargo'].lower():\n",
    "                \n",
    "                if target in acc:\n",
    "                    acc[target].append(position)\n",
    "                else:\n",
    "                    acc[target] = [position]\n",
    "                \n",
    "    return acc"
   ]
  },
  {
   "cell_type": "markdown",
   "id": "b42d7b72-f6fa-474b-bf0c-fff3d5dedcf6",
   "metadata": {
    "tags": []
   },
   "source": [
    "### Crear archivos con cargos obtenidos"
   ]
  },
  {
   "cell_type": "code",
   "execution_count": 7,
   "id": "42507cef-2eb2-4d83-8e07-ac805375f216",
   "metadata": {
    "tags": []
   },
   "outputs": [],
   "source": [
    "def creating_files(target_positions, interested_positions):\n",
    "\n",
    "    for target in target_positions:\n",
    "        file = open(f\"{target}_{company_name}.txt\", 'w')\n",
    "        \n",
    "        if target in interested_positions:\n",
    "            position_data = interested_positions[target]\n",
    "\n",
    "            for p in position_data:\n",
    "\n",
    "                txt = f\"Nombre: {p['nombre']}\\nCargo: {p['cargo']}\\n link: {p['page']}\\n\\n\"\n",
    "                file.write(txt)\n",
    "\n",
    "        file.close()"
   ]
  },
  {
   "cell_type": "markdown",
   "id": "831fe12f-6693-4498-9241-a25a3000c678",
   "metadata": {
    "tags": []
   },
   "source": [
    "## Ejecucion de funciones"
   ]
  },
  {
   "cell_type": "code",
   "execution_count": 8,
   "id": "1b719fe3-ab36-4fe9-a93e-6eb13afeac3d",
   "metadata": {
    "tags": []
   },
   "outputs": [],
   "source": [
    "get_login(driver)"
   ]
  },
  {
   "cell_type": "code",
   "execution_count": 9,
   "id": "63148602-1df5-4b6c-abdc-9ceda29eff1b",
   "metadata": {},
   "outputs": [],
   "source": [
    "go_to__search_page(driver)"
   ]
  },
  {
   "cell_type": "code",
   "execution_count": 10,
   "id": "b298aa2e-aa5b-450d-9ab5-c9c7cadff19e",
   "metadata": {},
   "outputs": [],
   "source": [
    "all_positions = scraping_page(driver)"
   ]
  },
  {
   "cell_type": "code",
   "execution_count": 11,
   "id": "ad523b5c-2ba0-4f0b-8c8f-321a5944fae1",
   "metadata": {
    "tags": []
   },
   "outputs": [],
   "source": [
    "interested_positions = classify_by_position_target(all_positions, target_positions)"
   ]
  },
  {
   "cell_type": "code",
   "execution_count": 12,
   "id": "b45bdbca-9239-46e7-aefd-e327c58e3f4c",
   "metadata": {
    "tags": []
   },
   "outputs": [],
   "source": [
    "creating_files(target_positions, interested_positions)"
   ]
  },
  {
   "cell_type": "code",
   "execution_count": null,
   "id": "df69d8e4-18ae-40b2-b9a2-a2e492f56fcd",
   "metadata": {},
   "outputs": [],
   "source": []
  }
 ],
 "metadata": {
  "kernelspec": {
   "display_name": "Python 3 (ipykernel)",
   "language": "python",
   "name": "python3"
  },
  "language_info": {
   "codemirror_mode": {
    "name": "ipython",
    "version": 3
   },
   "file_extension": ".py",
   "mimetype": "text/x-python",
   "name": "python",
   "nbconvert_exporter": "python",
   "pygments_lexer": "ipython3",
   "version": "3.10.9"
  }
 },
 "nbformat": 4,
 "nbformat_minor": 5
}
